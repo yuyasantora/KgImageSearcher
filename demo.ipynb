{
 "cells": [
  {
   "cell_type": "code",
   "execution_count": null,
   "metadata": {},
   "outputs": [],
   "source": [
    "import cv2\n",
    "import numpy as np\n",
    "import glob \n",
    "from transformers import AutoTokenizer, AutoModelForSeq2SeqLM\n",
    "\n",
    "#画像のパス取得\n",
    "image_path = glob.glob(\"*.jpg\",\"*.png\", \"*.jpeg\", \"*.bmp\", \"*.gif\")\n",
    "\n",
    "\n",
    "# 画像の読み込み\n",
    "image = cv2.imread(image_path)\n",
    "\n",
    "\n",
    "\n",
    "\n",
    "\n",
    "\n"
   ]
  }
 ],
 "metadata": {
  "language_info": {
   "name": "python"
  }
 },
 "nbformat": 4,
 "nbformat_minor": 2
}
